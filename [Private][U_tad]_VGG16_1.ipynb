{
  "metadata": {
    "kernelspec": {
      "language": "python",
      "display_name": "Python 3",
      "name": "python3"
    },
    "language_info": {
      "name": "python",
      "version": "3.10.14",
      "mimetype": "text/x-python",
      "codemirror_mode": {
        "name": "ipython",
        "version": 3
      },
      "pygments_lexer": "ipython3",
      "nbconvert_exporter": "python",
      "file_extension": ".py"
    },
    "kaggle": {
      "accelerator": "gpu",
      "dataSources": [
        {
          "sourceId": 85781,
          "databundleVersionId": 9710566,
          "sourceType": "competition"
        }
      ],
      "dockerImageVersionId": 30787,
      "isInternetEnabled": true,
      "language": "python",
      "sourceType": "notebook",
      "isGpuEnabled": true
    },
    "colab": {
      "name": "[Private][U-tad] VGG16_1",
      "provenance": [],
      "include_colab_link": true
    }
  },
  "nbformat_minor": 0,
  "nbformat": 4,
  "cells": [
    {
      "cell_type": "markdown",
      "metadata": {
        "id": "view-in-github",
        "colab_type": "text"
      },
      "source": [
        "<a href=\"https://colab.research.google.com/github/pedroconcejero/deep_learning_CNN/blob/main/%5BPrivate%5D%5BU_tad%5D_VGG16_1.ipynb\" target=\"_parent\"><img src=\"https://colab.research.google.com/assets/colab-badge.svg\" alt=\"Open In Colab\"/></a>"
      ]
    },
    {
      "source": [
        "\n",
        "# IMPORTANT: RUN THIS CELL IN ORDER TO IMPORT YOUR KAGGLE DATA SOURCES\n",
        "# TO THE CORRECT LOCATION (/kaggle/input) IN YOUR NOTEBOOK,\n",
        "# THEN FEEL FREE TO DELETE THIS CELL.\n",
        "# NOTE: THIS NOTEBOOK ENVIRONMENT DIFFERS FROM KAGGLE'S PYTHON\n",
        "# ENVIRONMENT SO THERE MAY BE MISSING LIBRARIES USED BY YOUR\n",
        "# NOTEBOOK.\n",
        "\n",
        "import os\n",
        "import sys\n",
        "from tempfile import NamedTemporaryFile\n",
        "from urllib.request import urlopen\n",
        "from urllib.parse import unquote, urlparse\n",
        "from urllib.error import HTTPError\n",
        "from zipfile import ZipFile\n",
        "import tarfile\n",
        "import shutil\n",
        "\n",
        "CHUNK_SIZE = 40960\n",
        "DATA_SOURCE_MAPPING = 'private-u-tad-dogs-vs-cats-2024:https%3A%2F%2Fstorage.googleapis.com%2Fkaggle-competitions-data%2Fkaggle-v2%2F85781%2F9710566%2Fbundle%2Farchive.zip%3FX-Goog-Algorithm%3DGOOG4-RSA-SHA256%26X-Goog-Credential%3Dgcp-kaggle-com%2540kaggle-161607.iam.gserviceaccount.com%252F20241014%252Fauto%252Fstorage%252Fgoog4_request%26X-Goog-Date%3D20241014T180044Z%26X-Goog-Expires%3D259200%26X-Goog-SignedHeaders%3Dhost%26X-Goog-Signature%3D4b07b60cb328a20d2a6e8af03ffecbe96d02dc05f209859de9ef80035300e748027c467aedecc979df87f12f4f14a6fadcb68a7436b66144cddb921869091481a7a48c7ae36ee0d2bf04ac09919fd8557397a713fa35c291b6c307424a2612bb03787b1705d182856834df53dcb4c3822253f10638bcbe993e1d4b0a364a18d0cd68f43bc4a67551ffaf92fed760b2872c422985d30376e667ccca0782e342af4e0396a7389c1e18aaacdc65ef7f5843ba2d31db5af2ab3aa4cbe7b784044b3639dbbeccb93eb2f9797e6db4fe2eae30921a215c5c78c3b403aca310cb5e9eb6ff088bd0930a33c1312189aa4897bab19fcd22f2748650a5940e35450dbfb605'\n",
        "\n",
        "KAGGLE_INPUT_PATH='/kaggle/input'\n",
        "KAGGLE_WORKING_PATH='/kaggle/working'\n",
        "KAGGLE_SYMLINK='kaggle'\n",
        "\n",
        "!umount /kaggle/input/ 2> /dev/null\n",
        "shutil.rmtree('/kaggle/input', ignore_errors=True)\n",
        "os.makedirs(KAGGLE_INPUT_PATH, 0o777, exist_ok=True)\n",
        "os.makedirs(KAGGLE_WORKING_PATH, 0o777, exist_ok=True)\n",
        "\n",
        "try:\n",
        "  os.symlink(KAGGLE_INPUT_PATH, os.path.join(\"..\", 'input'), target_is_directory=True)\n",
        "except FileExistsError:\n",
        "  pass\n",
        "try:\n",
        "  os.symlink(KAGGLE_WORKING_PATH, os.path.join(\"..\", 'working'), target_is_directory=True)\n",
        "except FileExistsError:\n",
        "  pass\n",
        "\n",
        "for data_source_mapping in DATA_SOURCE_MAPPING.split(','):\n",
        "    directory, download_url_encoded = data_source_mapping.split(':')\n",
        "    download_url = unquote(download_url_encoded)\n",
        "    filename = urlparse(download_url).path\n",
        "    destination_path = os.path.join(KAGGLE_INPUT_PATH, directory)\n",
        "    try:\n",
        "        with urlopen(download_url) as fileres, NamedTemporaryFile() as tfile:\n",
        "            total_length = fileres.headers['content-length']\n",
        "            print(f'Downloading {directory}, {total_length} bytes compressed')\n",
        "            dl = 0\n",
        "            data = fileres.read(CHUNK_SIZE)\n",
        "            while len(data) > 0:\n",
        "                dl += len(data)\n",
        "                tfile.write(data)\n",
        "                done = int(50 * dl / int(total_length))\n",
        "                sys.stdout.write(f\"\\r[{'=' * done}{' ' * (50-done)}] {dl} bytes downloaded\")\n",
        "                sys.stdout.flush()\n",
        "                data = fileres.read(CHUNK_SIZE)\n",
        "            if filename.endswith('.zip'):\n",
        "              with ZipFile(tfile) as zfile:\n",
        "                zfile.extractall(destination_path)\n",
        "            else:\n",
        "              with tarfile.open(tfile.name) as tarfile:\n",
        "                tarfile.extractall(destination_path)\n",
        "            print(f'\\nDownloaded and uncompressed: {directory}')\n",
        "    except HTTPError as e:\n",
        "        print(f'Failed to load (likely expired) {download_url} to path {destination_path}')\n",
        "        continue\n",
        "    except OSError as e:\n",
        "        print(f'Failed to load {download_url} to path {destination_path}')\n",
        "        continue\n",
        "\n",
        "print('Data source import complete.')\n"
      ],
      "metadata": {
        "id": "KuNIWZvaMJWh"
      },
      "cell_type": "code",
      "outputs": [],
      "execution_count": null
    },
    {
      "cell_type": "code",
      "source": [
        "import os\n",
        "import numpy as np\n",
        "import matplotlib.pyplot as plt\n",
        "import pandas as pd\n",
        "\n",
        "from tensorflow import data as tf_data\n",
        "import keras\n",
        "\n",
        "seed = 1\n",
        "keras.utils.set_random_seed(seed)"
      ],
      "metadata": {
        "_uuid": "8f2839f25d086af736a60e9eeb907d3b93b6e0e5",
        "_cell_guid": "b1076dfc-b9ad-4769-8c92-a6c4dae69d19",
        "execution": {
          "iopub.status.busy": "2024-10-14T15:48:32.003532Z",
          "iopub.execute_input": "2024-10-14T15:48:32.003915Z",
          "iopub.status.idle": "2024-10-14T15:48:35.567691Z",
          "shell.execute_reply.started": "2024-10-14T15:48:32.00387Z",
          "shell.execute_reply": "2024-10-14T15:48:35.566625Z"
        },
        "trusted": true,
        "id": "LKXd8yflMJWj"
      },
      "execution_count": null,
      "outputs": []
    },
    {
      "cell_type": "markdown",
      "source": [
        "### Read in the training data"
      ],
      "metadata": {
        "id": "Gs6ZaBq_MJWl"
      }
    },
    {
      "cell_type": "code",
      "source": [
        "image_size = (224, 224)\n",
        "\n",
        "# when working with 20_000 files for training this\n",
        "# will lead to exactly 160 mini-batches per epoch\n",
        "batch_size = 125\n",
        "\n",
        "# https://keras.io/api/data_loading/image/#imagedatasetfromdirectory-function\n",
        "\n",
        "train_ds, val_ds = keras.utils.image_dataset_from_directory(\n",
        "    #\"PetImages\",\n",
        "    \"/kaggle/input/private-u-tad-dogs-vs-cats-2024/train/train\",\n",
        "    validation_split=0.2,\n",
        "    subset=\"both\",\n",
        "    seed=seed,\n",
        "    image_size=image_size,\n",
        "    batch_size=batch_size,\n",
        "    labels=\"inferred\",\n",
        "    label_mode=\"categorical\",\n",
        ")"
      ],
      "metadata": {
        "execution": {
          "iopub.status.busy": "2024-10-14T15:48:35.56968Z",
          "iopub.execute_input": "2024-10-14T15:48:35.570747Z",
          "iopub.status.idle": "2024-10-14T15:48:56.124911Z",
          "shell.execute_reply.started": "2024-10-14T15:48:35.570697Z",
          "shell.execute_reply": "2024-10-14T15:48:56.124075Z"
        },
        "trusted": true,
        "id": "sL8dFgfUMJWn"
      },
      "execution_count": null,
      "outputs": []
    },
    {
      "cell_type": "markdown",
      "source": [
        "# VGG16 pre trained model"
      ],
      "metadata": {
        "id": "vqta7dD9MJWp"
      }
    },
    {
      "cell_type": "markdown",
      "source": [
        "### Importar Keras\n",
        "\n",
        "Incluímos el modelo VGG16 y vemos sus capas."
      ],
      "metadata": {
        "id": "E6ndWo6tMJWq"
      }
    },
    {
      "cell_type": "code",
      "source": [
        "vgg = keras.applications.VGG16(weights='imagenet', include_top=True)\n",
        "vgg.summary()"
      ],
      "metadata": {
        "execution": {
          "iopub.status.busy": "2024-10-14T15:48:56.126061Z",
          "iopub.execute_input": "2024-10-14T15:48:56.126405Z",
          "iopub.status.idle": "2024-10-14T15:48:58.376979Z",
          "shell.execute_reply.started": "2024-10-14T15:48:56.126371Z",
          "shell.execute_reply": "2024-10-14T15:48:58.376038Z"
        },
        "trusted": true,
        "id": "2-rTlAm0MJWr"
      },
      "execution_count": null,
      "outputs": []
    },
    {
      "cell_type": "markdown",
      "source": [
        "### Capas\n",
        "\n",
        "Usamos la misma capa de entrada, quitamos la última capa ya que es la de Image net, creamos nuestra propia capa densa con 2 neuronas, que servirán para: Gato, Perro."
      ],
      "metadata": {
        "id": "E8V2YDK7MJWt"
      }
    },
    {
      "cell_type": "code",
      "source": [
        "from keras.models import Model\n",
        "from keras.layers import Input, Dense\n",
        "# we create a new input with the requiered parameters, vgg uses a different one that does not work with this input size.\n",
        "inp = vgg.input\n",
        "\n",
        "# make a new softmax layer with num_classes neurons\n",
        "new_classification_layer = Dense(2, activation='softmax')\n",
        "\n",
        "# connect our new layer to the second to last layer in VGG, and make a reference to it\n",
        "out = new_classification_layer(vgg.layers[-2].output)\n",
        "\n",
        "# create a new network between inp and out\n",
        "model_new = Model(inp, out)"
      ],
      "metadata": {
        "execution": {
          "iopub.status.busy": "2024-10-14T15:48:58.378989Z",
          "iopub.execute_input": "2024-10-14T15:48:58.379397Z",
          "iopub.status.idle": "2024-10-14T15:48:58.401552Z",
          "shell.execute_reply.started": "2024-10-14T15:48:58.379354Z",
          "shell.execute_reply": "2024-10-14T15:48:58.400582Z"
        },
        "trusted": true,
        "id": "S6oRhzPAMJWu"
      },
      "execution_count": null,
      "outputs": []
    },
    {
      "cell_type": "markdown",
      "source": [
        "### Congelar Capas\n",
        "\n",
        "Como el modelo ya está pre entrenado, podemos congelar todos los pesos y biases de las capas excepto la última, la cual servirá para tomar la decisción de perro o gato. Cabe aclarar que se menciona que en casos con más imagenes de entrenamiento es posible descongelarlas."
      ],
      "metadata": {
        "id": "lLZkSaO6MJWw"
      }
    },
    {
      "cell_type": "code",
      "source": [
        "# make all layers untrainable by freezing weights (except for last layer)\n",
        "for l, layer in enumerate(model_new.layers[:-1]):\n",
        "    layer.trainable = False\n",
        "\n",
        "# ensure the last layer is trainable/not frozen\n",
        "for l, layer in enumerate(model_new.layers[-1:]):\n",
        "    layer.trainable = True\n",
        "\n",
        "\n",
        "model_new.compile(loss='categorical_crossentropy',\n",
        "              optimizer='adam',\n",
        "              metrics=['accuracy'])\n",
        "\n",
        "model_new.summary()"
      ],
      "metadata": {
        "execution": {
          "iopub.status.busy": "2024-10-14T15:49:20.630338Z",
          "iopub.execute_input": "2024-10-14T15:49:20.63101Z",
          "iopub.status.idle": "2024-10-14T15:49:20.676028Z",
          "shell.execute_reply.started": "2024-10-14T15:49:20.630968Z",
          "shell.execute_reply": "2024-10-14T15:49:20.675111Z"
        },
        "trusted": true,
        "id": "H8pReS2_MJWw"
      },
      "execution_count": null,
      "outputs": []
    },
    {
      "cell_type": "code",
      "source": [
        "epochs = 10\n",
        "\n",
        "history = model_new.fit(train_ds,\n",
        "                    validation_data = val_ds,\n",
        "                    epochs = epochs)\n",
        "\n"
      ],
      "metadata": {
        "execution": {
          "iopub.status.busy": "2024-10-14T15:49:32.198364Z",
          "iopub.execute_input": "2024-10-14T15:49:32.198769Z",
          "iopub.status.idle": "2024-10-14T15:57:11.804845Z",
          "shell.execute_reply.started": "2024-10-14T15:49:32.198734Z",
          "shell.execute_reply": "2024-10-14T15:57:11.803891Z"
        },
        "trusted": true,
        "id": "g_U7JSTvMJWx"
      },
      "execution_count": null,
      "outputs": []
    },
    {
      "cell_type": "markdown",
      "source": [
        "### Compile and train (fit)"
      ],
      "metadata": {
        "id": "1IPJ9VkhMJWx"
      }
    },
    {
      "cell_type": "code",
      "source": [
        "logs = pd.DataFrame(history.history)\n",
        "\n",
        "plt.figure(figsize=(14, 4))\n",
        "plt.subplot(1, 2, 1)\n",
        "plt.plot(logs.loc[1:,\"loss\"], lw=2, label='training loss')\n",
        "plt.plot(logs.loc[1:,\"val_loss\"], lw=2, label='validation loss')\n",
        "plt.xlabel(\"Epoch\")\n",
        "plt.ylabel(\"Loss\")\n",
        "plt.legend()\n",
        "plt.subplot(1, 2, 2)\n",
        "plt.plot(logs.loc[1:,\"accuracy\"], lw=2, label='training accuracy')\n",
        "plt.plot(logs.loc[1:,\"val_accuracy\"], lw=2, label='validation accuracy')\n",
        "plt.xlabel(\"Epoch\")\n",
        "plt.ylabel(\"Accuracy\")\n",
        "plt.legend(loc='lower right')\n",
        "plt.show()"
      ],
      "metadata": {
        "execution": {
          "iopub.status.busy": "2024-10-14T15:58:48.595299Z",
          "iopub.execute_input": "2024-10-14T15:58:48.595899Z",
          "iopub.status.idle": "2024-10-14T15:58:49.085121Z",
          "shell.execute_reply.started": "2024-10-14T15:58:48.595846Z",
          "shell.execute_reply": "2024-10-14T15:58:49.084186Z"
        },
        "trusted": true,
        "id": "H_onT9MUMJWx"
      },
      "execution_count": null,
      "outputs": []
    },
    {
      "cell_type": "code",
      "source": [
        "folder_path = \"/kaggle/input/private-u-tad-dogs-vs-cats-2024/test/test/\""
      ],
      "metadata": {
        "execution": {
          "iopub.status.busy": "2024-10-14T15:59:39.105897Z",
          "iopub.execute_input": "2024-10-14T15:59:39.106719Z",
          "iopub.status.idle": "2024-10-14T15:59:39.111089Z",
          "shell.execute_reply.started": "2024-10-14T15:59:39.106678Z",
          "shell.execute_reply": "2024-10-14T15:59:39.110025Z"
        },
        "trusted": true,
        "id": "aS8RGmYaMJWy"
      },
      "execution_count": null,
      "outputs": []
    },
    {
      "cell_type": "markdown",
      "source": [
        "### Create predictions for all test images"
      ],
      "metadata": {
        "id": "hznBBbFgMJWy"
      }
    },
    {
      "cell_type": "code",
      "source": [
        "%%time\n",
        "\n",
        "folder_path = \"/kaggle/input/private-u-tad-dogs-vs-cats-2024/test/test/\"\n",
        "\n",
        "discrimination_threshold = 0.5  # below 0.5 is a cat, above 0.5 is a dog\n",
        "predictions_dict = {}\n",
        "\n",
        "for img in os.listdir(folder_path):\n",
        "    img = os.path.join(folder_path, img)\n",
        "\n",
        "    # save the image name\n",
        "    file_name = img.split('/')[-1]\n",
        "    file_no_extension = file_name.split('.')[0]\n",
        "\n",
        "    img = keras.utils.load_img(img, target_size=image_size)\n",
        "    img_array = keras.utils.img_to_array(img)\n",
        "    img_array = keras.ops.expand_dims(img_array, 0)\n",
        "    predictions = model_new.predict(img_array, verbose=None)\n",
        "    score = predictions[0][1]\n",
        "    label = (score > discrimination_threshold )*1\n",
        "\n",
        "    # save the predictions to a dictionary\n",
        "    predictions_dict[int(file_no_extension)] = label"
      ],
      "metadata": {
        "execution": {
          "iopub.status.busy": "2024-10-14T16:00:55.669472Z",
          "iopub.execute_input": "2024-10-14T16:00:55.670525Z",
          "iopub.status.idle": "2024-10-14T16:03:23.827355Z",
          "shell.execute_reply.started": "2024-10-14T16:00:55.670468Z",
          "shell.execute_reply": "2024-10-14T16:03:23.826306Z"
        },
        "trusted": true,
        "id": "ZAi1A6JKMJWy"
      },
      "execution_count": null,
      "outputs": []
    },
    {
      "cell_type": "markdown",
      "source": [
        "### Save predictions to a competition submission file"
      ],
      "metadata": {
        "id": "Hu4ogLrAMJW0"
      }
    },
    {
      "cell_type": "code",
      "source": [
        "submission = pd.DataFrame(predictions_dict.items(), columns=[\"id\", \"label\"]).sort_values(by='id', ascending=True)\n",
        "submission.to_csv('submission.csv',index=False)\n",
        "\n",
        "# print numbers of each class label\n",
        "submission[\"label\"].value_counts()"
      ],
      "metadata": {
        "execution": {
          "iopub.status.busy": "2024-10-14T16:03:35.574912Z",
          "iopub.execute_input": "2024-10-14T16:03:35.575313Z",
          "iopub.status.idle": "2024-10-14T16:03:35.60074Z",
          "shell.execute_reply.started": "2024-10-14T16:03:35.575275Z",
          "shell.execute_reply": "2024-10-14T16:03:35.59984Z"
        },
        "trusted": true,
        "id": "y-I0kuYxMJW1"
      },
      "execution_count": null,
      "outputs": []
    },
    {
      "cell_type": "code",
      "source": [
        "submission"
      ],
      "metadata": {
        "execution": {
          "iopub.status.busy": "2024-10-14T16:03:42.525532Z",
          "iopub.execute_input": "2024-10-14T16:03:42.52629Z",
          "iopub.status.idle": "2024-10-14T16:03:42.540098Z",
          "shell.execute_reply.started": "2024-10-14T16:03:42.526242Z",
          "shell.execute_reply": "2024-10-14T16:03:42.539129Z"
        },
        "trusted": true,
        "id": "QRiZ9XRFMJW2"
      },
      "execution_count": null,
      "outputs": []
    }
  ]
}